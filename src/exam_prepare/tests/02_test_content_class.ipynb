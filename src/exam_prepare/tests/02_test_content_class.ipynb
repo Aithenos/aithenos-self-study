{
 "cells": [
  {
   "cell_type": "code",
   "execution_count": 1,
   "metadata": {},
   "outputs": [
    {
     "name": "stderr",
     "output_type": "stream",
     "text": [
      "c:\\Users\\Admin\\anaconda3\\envs\\self-study\\lib\\site-packages\\pydantic\\_internal\\_fields.py:128: UserWarning: Field \"model_id\" has conflict with protected namespace \"model_\".\n",
      "\n",
      "You may be able to resolve this warning by setting `model_config['protected_namespaces'] = ()`.\n",
      "  warnings.warn(\n"
     ]
    }
   ],
   "source": [
    "from domain.concept import ContentSynthesizerInput\n",
    "from domain.concept import ContentSynthesizerService"
   ]
  },
  {
   "cell_type": "code",
   "execution_count": 2,
   "metadata": {},
   "outputs": [],
   "source": [
    "from shared.settings import load_settings\n",
    "\n",
    "from infra.llm_service import OpenAISearchService\n",
    "\n",
    "settings = load_settings()\n",
    "\n",
    "\n",
    "openai_service = OpenAISearchService(\n",
    "    settings=settings.openai\n",
    ")"
   ]
  },
  {
   "cell_type": "code",
   "execution_count": 3,
   "metadata": {},
   "outputs": [],
   "source": [
    "content_synthesizer_service = ContentSynthesizerService(\n",
    "    llm_service=openai_service\n",
    ")"
   ]
  },
  {
   "cell_type": "code",
   "execution_count": 4,
   "metadata": {},
   "outputs": [],
   "source": [
    "response = content_synthesizer_service.process(\n",
    "    inputs=ContentSynthesizerInput(\n",
    "        subject=\"Toán\",\n",
    "        lst_chapters=[\"Chương 1\", \"Chương 2\"],\n",
    "        level_class=\"Grade 10\",\n",
    "        lang=\"en\"\n",
    "    )\n",
    ")"
   ]
  },
  {
   "cell_type": "code",
   "execution_count": 5,
   "metadata": {},
   "outputs": [
    {
     "name": "stdout",
     "output_type": "stream",
     "text": [
      "```markdown\n",
      "# Tóm tắt nội dung chi tiết các chương 1 và 2 môn Toán lớp 10\n",
      "\n",
      "## Chương 1: Mệnh đề, tập hợp và các phép toán trên tập hợp\n",
      "\n",
      "### 1. Mệnh đề và các phép toán trên mệnh đề\n",
      "\n",
      "- **Mệnh đề**: Là câu khẳng định có giá trị đúng hoặc sai, không phải là câu hỏi hay mệnh lệnh.\n",
      "\n",
      "- **Phủ định của mệnh đề**: Nếu mệnh đề P là \"A\", thì phủ định của P là \"không A\".\n",
      "\n",
      "- **Mệnh đề kéo theo**: Mệnh đề \"Nếu P thì Q\" được ký hiệu là P ⇒ Q, có nghĩa là nếu P đúng thì Q cũng đúng.\n",
      "\n",
      "- **Mệnh đề đảo và mệnh đề tương đương**: Mệnh đề đảo của P ⇒ Q là Q ⇒ P. Nếu cả hai mệnh đề P ⇒ Q và Q ⇒ P đều đúng, thì P và Q là hai mệnh đề tương đương, ký hiệu P ⇔ Q.\n",
      "\n",
      "- **Ký hiệu ∀ và ∃**: ∀ đọc là \"với mọi\", ∃ đọc là \"tồn tại\".\n",
      "\n",
      "### 2. Tập hợp và các phép toán trên tập hợp\n",
      "\n",
      "- **Tập hợp**: Là một khái niệm cơ bản trong toán học, bao gồm các phần tử được xác định rõ ràng.\n",
      "\n",
      "- **Cách biểu diễn tập hợp**:\n",
      "  - **Liệt kê các phần tử**: Ví dụ, tập hợp các số tự nhiên không quá 100: {0, 1, 2, ..., 100}.\n",
      "  - **Chỉ ra tính chất đặc trưng**: Ví dụ, tập hợp các số tự nhiên chia hết cho 3 và lớn hơn 3 nhưng nhỏ hơn 10: {n ∈ ℕ | n chia hết cho 3, 3 < n < 10}.\n",
      "\n",
      "- **Tập con và hai tập hợp bằng nhau**:\n",
      "  - Tập hợp A là tập con của tập hợp B (ký hiệu A ⊂ B) nếu mọi phần tử của A đều là phần tử của B.\n",
      "  - Hai tập hợp A và B bằng nhau (ký hiệu A = B) nếu A ⊂ B và B ⊂ A.\n",
      "\n",
      "## Chương 2: Hàm số bậc nhất và bậc hai\n",
      "\n",
      "### 1. Hàm số bậc nhất\n",
      "\n",
      "- **Định nghĩa**: Hàm số bậc nhất có dạng y = ax + b, với a ≠ 0.\n",
      "\n",
      "- **Tập xác định**: D = ℝ (tập hợp các số thực).\n",
      "\n",
      "- **Chiều biến thiên**:\n",
      "  - Nếu a > 0, hàm số đồng biến trên ℝ.\n",
      "  - Nếu a < 0, hàm số nghịch biến trên ℝ.\n",
      "\n",
      "- **Đồ thị**: Là một đường thẳng không song song và cũng không trùng với các trục tọa độ. Đường thẳng này luôn song song với đường thẳng y = ax (nếu b ≠ 0) và đi qua hai điểm A(0; b), B( -b/a; 0).\n",
      "\n",
      "### 2. Hàm số bậc hai\n",
      "\n",
      "- **Định nghĩa**: Hàm số bậc hai có dạng y = ax² + bx + c, với a ≠ 0.\n",
      "\n",
      "- **Đồ thị**: Là một đường parabol có đỉnh là điểm có tọa độ (x₀, y₀) và trục đối xứng là đường thẳng x = x₀. Parabol này quay bề lõm lên trên nếu a > 0 và quay bề lõm xuống dưới nếu a < 0.\n",
      "\n",
      "- **Cách vẽ đồ thị**:\n",
      "  1. Xác định tọa độ của đỉnh.\n",
      "  2. Vẽ trục đối xứng.\n",
      "  3. Xác định tọa độ các giao điểm của parabol với trục tung (điểm A) và trục hoành (nếu có).\n",
      "  4. Xác định thêm một số điểm thuộc đồ thị, chẳng hạn điểm đối xứng với điểm A qua trục đối xứng của parabol, để vẽ đồ thị chính xác hơn.\n",
      "  5. Vẽ parabol.\n",
      "\n",
      "- **Lưu ý**: Khi vẽ parabol, cần chú ý đến dấu của hệ số a để xác định bề lõm của parabol (lên trên hay xuống dưới).\n",
      "```\n",
      " \n"
     ]
    }
   ],
   "source": [
    "print(response.content)"
   ]
  },
  {
   "cell_type": "code",
   "execution_count": null,
   "metadata": {},
   "outputs": [],
   "source": []
  }
 ],
 "metadata": {
  "kernelspec": {
   "display_name": "self-study",
   "language": "python",
   "name": "python3"
  },
  "language_info": {
   "codemirror_mode": {
    "name": "ipython",
    "version": 3
   },
   "file_extension": ".py",
   "mimetype": "text/x-python",
   "name": "python",
   "nbconvert_exporter": "python",
   "pygments_lexer": "ipython3",
   "version": "3.10.16"
  }
 },
 "nbformat": 4,
 "nbformat_minor": 2
}
