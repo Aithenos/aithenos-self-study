{
 "cells": [
  {
   "cell_type": "code",
   "execution_count": 1,
   "metadata": {},
   "outputs": [
    {
     "name": "stderr",
     "output_type": "stream",
     "text": [
      "c:\\Users\\Admin\\anaconda3\\envs\\self-study\\lib\\site-packages\\pydantic\\_internal\\_fields.py:128: UserWarning: Field \"model_id\" has conflict with protected namespace \"model_\".\n",
      "\n",
      "You may be able to resolve this warning by setting `model_config['protected_namespaces'] = ()`.\n",
      "  warnings.warn(\n"
     ]
    }
   ],
   "source": [
    "from domain.question_gen import QuestionGenInput\n",
    "from domain.question_gen import QuestionGenService"
   ]
  },
  {
   "cell_type": "code",
   "execution_count": 2,
   "metadata": {},
   "outputs": [],
   "source": [
    "from shared.settings import load_settings\n",
    "\n",
    "from infra.llm_service import OpenAISearchService\n",
    "\n",
    "settings = load_settings()\n",
    "\n",
    "\n",
    "openai_service = OpenAISearchService(\n",
    "    settings=settings.openai\n",
    ")"
   ]
  },
  {
   "cell_type": "code",
   "execution_count": 4,
   "metadata": {},
   "outputs": [],
   "source": [
    "question_gen_service = QuestionGenService(\n",
    "    openai_search=openai_service\n",
    ")"
   ]
  },
  {
   "cell_type": "code",
   "execution_count": 7,
   "metadata": {},
   "outputs": [],
   "source": [
    "response = question_gen_service.process(\n",
    "    inputs=QuestionGenInput(\n",
    "        content= \"\"\"\n",
    "        ```markdown\n",
    "        # Tóm tắt nội dung chi tiết các chương 1 và 2 môn Toán lớp 10\n",
    "\n",
    "        ## Chương 1: Mệnh đề, tập hợp và các phép toán trên tập hợp\n",
    "\n",
    "        ### 1. Mệnh đề và các phép toán trên mệnh đề\n",
    "\n",
    "        - **Mệnh đề**: Là câu khẳng định có giá trị đúng hoặc sai, không phải là câu hỏi hay mệnh lệnh.\n",
    "\n",
    "        - **Phủ định của mệnh đề**: Nếu mệnh đề P là \"A\", thì phủ định của P là \"không A\".\n",
    "\n",
    "        - **Mệnh đề kéo theo**: Mệnh đề \"Nếu P thì Q\" được ký hiệu là P ⇒ Q, có nghĩa là nếu P đúng thì Q cũng đúng.\n",
    "\n",
    "        - **Mệnh đề đảo và mệnh đề tương đương**: Mệnh đề đảo của P ⇒ Q là Q ⇒ P. Nếu cả hai mệnh đề P ⇒ Q và Q ⇒ P đều đúng, thì P và Q là hai mệnh đề tương đương, ký hiệu P ⇔ Q.\n",
    "\n",
    "        - **Ký hiệu ∀ và ∃**: ∀ đọc là \"với mọi\", ∃ đọc là \"tồn tại\".\n",
    "\n",
    "        ### 2. Tập hợp và các phép toán trên tập hợp\n",
    "\n",
    "        - **Tập hợp**: Là một khái niệm cơ bản trong toán học, bao gồm các phần tử được xác định rõ ràng.\n",
    "\n",
    "        - **Cách biểu diễn tập hợp**:\n",
    "        - **Liệt kê các phần tử**: Ví dụ, tập hợp các số tự nhiên không quá 100: {0, 1, 2, ..., 100}.\n",
    "        - **Chỉ ra tính chất đặc trưng**: Ví dụ, tập hợp các số tự nhiên chia hết cho 3 và lớn hơn 3 nhưng nhỏ hơn 10: {n ∈ ℕ | n chia hết cho 3, 3 < n < 10}.\n",
    "\n",
    "        - **Tập con và hai tập hợp bằng nhau**:\n",
    "        - Tập hợp A là tập con của tập hợp B (ký hiệu A ⊂ B) nếu mọi phần tử của A đều là phần tử của B.\n",
    "        - Hai tập hợp A và B bằng nhau (ký hiệu A = B) nếu A ⊂ B và B ⊂ A.\n",
    "\n",
    "        ## Chương 2: Hàm số bậc nhất và bậc hai\n",
    "\n",
    "        ### 1. Hàm số bậc nhất\n",
    "\n",
    "        - **Định nghĩa**: Hàm số bậc nhất có dạng y = ax + b, với a ≠ 0.\n",
    "\n",
    "        - **Tập xác định**: D = ℝ (tập hợp các số thực).\n",
    "\n",
    "        - **Chiều biến thiên**:\n",
    "        - Nếu a > 0, hàm số đồng biến trên ℝ.\n",
    "        - Nếu a < 0, hàm số nghịch biến trên ℝ.\n",
    "\n",
    "        - **Đồ thị**: Là một đường thẳng không song song và cũng không trùng với các trục tọa độ. Đường thẳng này luôn song song với đường thẳng y = ax (nếu b ≠ 0) và đi qua hai điểm A(0; b), B( -b/a; 0).\n",
    "\n",
    "        ### 2. Hàm số bậc hai\n",
    "\n",
    "        - **Định nghĩa**: Hàm số bậc hai có dạng y = ax² + bx + c, với a ≠ 0.\n",
    "\n",
    "        - **Đồ thị**: Là một đường parabol có đỉnh là điểm có tọa độ (x₀, y₀) và trục đối xứng là đường thẳng x = x₀. Parabol này quay bề lõm lên trên nếu a > 0 và quay bề lõm xuống dưới nếu a < 0.\n",
    "\n",
    "        - **Cách vẽ đồ thị**:\n",
    "        1. Xác định tọa độ của đỉnh.\n",
    "        2. Vẽ trục đối xứng.\n",
    "        3. Xác định tọa độ các giao điểm của parabol với trục tung (điểm A) và trục hoành (nếu có).\n",
    "        4. Xác định thêm một số điểm thuộc đồ thị, chẳng hạn điểm đối xứng với điểm A qua trục đối xứng của parabol, để vẽ đồ thị chính xác hơn.\n",
    "        5. Vẽ parabol.\n",
    "\n",
    "        - **Lưu ý**: Khi vẽ parabol, cần chú ý đến dấu của hệ số a để xác định bề lõm của parabol (lên trên hay xuống dưới).\n",
    "        ```\n",
    "        \"\"\",       \n",
    "        exam_type=\"test_15m\",\n",
    "        number_multiplechoice=3,\n",
    "        number_essay=2,\n",
    "        subject=\"Toán\",\n",
    "        level_class=\"Grade 10\",\n",
    "        chapters=[\"Chương 1\", \"Chương 2\"],\n",
    "    )\n",
    ")"
   ]
  },
  {
   "cell_type": "code",
   "execution_count": 8,
   "metadata": {},
   "outputs": [
    {
     "name": "stdout",
     "output_type": "stream",
     "text": [
      "{'exam_type': 'test_15m', 'level_class': 10, 'subject': 'Toán', 'questions': {'multiple_choice': [{'question': 'Mệnh đề nào sau đây là mệnh đề đúng?', 'options': ['A. 2 + 2 = 5', 'B. 3 > 5', 'C. 5 là số nguyên tố', 'D. 7 là số chẵn'], 'answer': 'C'}, {'question': 'Hàm số bậc nhất có dạng y = ax + b, với a ≠ 0. Nếu a = -2, hàm số này có chiều biến thiên như thế nào?', 'options': ['A. Đồng biến trên ℝ', 'B. Nghịch biến trên ℝ', 'C. Không xác định', 'D. Không có chiều biến thiên'], 'answer': 'B'}, {'question': 'Để vẽ đồ thị của hàm số bậc hai y = ax² + bx + c, bước đầu tiên cần thực hiện là gì?', 'options': ['A. Xác định tọa độ của đỉnh', 'B. Vẽ trục đối xứng', 'C. Xác định giao điểm với trục hoành', 'D. Xác định giao điểm với trục tung'], 'answer': 'A'}], 'essay': [{'question': 'Giải thích khái niệm mệnh đề và các phép toán trên mệnh đề, bao gồm phủ định, mệnh đề kéo theo, mệnh đề đảo và mệnh đề tương đương.', 'expected_answer': \"Mệnh đề là câu khẳng định có giá trị đúng hoặc sai, không phải là câu hỏi hay mệnh lệnh. Các phép toán trên mệnh đề bao gồm: phủ định (nếu mệnh đề P là 'A', thì phủ định của P là 'không A'), mệnh đề kéo theo (nếu P ⇒ Q, có nghĩa là nếu P đúng thì Q cũng đúng), mệnh đề đảo (mệnh đề đảo của P ⇒ Q là Q ⇒ P), và mệnh đề tương đương (nếu cả hai mệnh đề P ⇒ Q và Q ⇒ P đều đúng, thì P và Q là hai mệnh đề tương đương, ký hiệu P ⇔ Q).\"}, {'question': 'Mô tả cách vẽ đồ thị của hàm số bậc hai y = ax² + bx + c, bao gồm các bước xác định đỉnh, trục đối xứng, giao điểm với trục tung và trục hoành, cũng như cách xác định bề lõm của parabol.', 'expected_answer': 'Để vẽ đồ thị của hàm số bậc hai y = ax² + bx + c, thực hiện các bước sau: 1. Xác định tọa độ của đỉnh (x₀, y₀). 2. Vẽ trục đối xứng là đường thẳng x = x₀. 3. Xác định giao điểm của parabol với trục tung (y = 0) và trục hoành (x = 0), nếu có. 4. Xác định thêm một số điểm thuộc đồ thị, chẳng hạn điểm đối xứng với điểm A qua trục đối xứng của parabol, để vẽ đồ thị chính xác hơn. 5. Vẽ parabol. Lưu ý rằng bề lõm của parabol được xác định bởi dấu của hệ số a: nếu a > 0, parabol quay bề lõm lên trên; nếu a < 0, parabol quay bề lõm xuống dưới.'}]}}\n"
     ]
    }
   ],
   "source": [
    "print(response.questions)"
   ]
  },
  {
   "cell_type": "code",
   "execution_count": 9,
   "metadata": {},
   "outputs": [
    {
     "name": "stdout",
     "output_type": "stream",
     "text": [
      "{'exam_type': 'test_15m',\n",
      " 'level_class': 10,\n",
      " 'questions': {'essay': [{'expected_answer': 'Mệnh đề là câu khẳng định có giá '\n",
      "                                             'trị đúng hoặc sai, không phải là '\n",
      "                                             'câu hỏi hay mệnh lệnh. Các phép '\n",
      "                                             'toán trên mệnh đề bao gồm: phủ '\n",
      "                                             \"định (nếu mệnh đề P là 'A', thì \"\n",
      "                                             \"phủ định của P là 'không A'), \"\n",
      "                                             'mệnh đề kéo theo (nếu P ⇒ Q, có '\n",
      "                                             'nghĩa là nếu P đúng thì Q cũng '\n",
      "                                             'đúng), mệnh đề đảo (mệnh đề đảo '\n",
      "                                             'của P ⇒ Q là Q ⇒ P), và mệnh đề '\n",
      "                                             'tương đương (nếu cả hai mệnh đề '\n",
      "                                             'P ⇒ Q và Q ⇒ P đều đúng, thì P '\n",
      "                                             'và Q là hai mệnh đề tương đương, '\n",
      "                                             'ký hiệu P ⇔ Q).',\n",
      "                          'question': 'Giải thích khái niệm mệnh đề và các '\n",
      "                                      'phép toán trên mệnh đề, bao gồm phủ '\n",
      "                                      'định, mệnh đề kéo theo, mệnh đề đảo và '\n",
      "                                      'mệnh đề tương đương.'},\n",
      "                         {'expected_answer': 'Để vẽ đồ thị của hàm số bậc hai '\n",
      "                                             'y = ax² + bx + c, thực hiện các '\n",
      "                                             'bước sau: 1. Xác định tọa độ của '\n",
      "                                             'đỉnh (x₀, y₀). 2. Vẽ trục đối '\n",
      "                                             'xứng là đường thẳng x = x₀. 3. '\n",
      "                                             'Xác định giao điểm của parabol '\n",
      "                                             'với trục tung (y = 0) và trục '\n",
      "                                             'hoành (x = 0), nếu có. 4. Xác '\n",
      "                                             'định thêm một số điểm thuộc đồ '\n",
      "                                             'thị, chẳng hạn điểm đối xứng với '\n",
      "                                             'điểm A qua trục đối xứng của '\n",
      "                                             'parabol, để vẽ đồ thị chính xác '\n",
      "                                             'hơn. 5. Vẽ parabol. Lưu ý rằng '\n",
      "                                             'bề lõm của parabol được xác định '\n",
      "                                             'bởi dấu của hệ số a: nếu a > 0, '\n",
      "                                             'parabol quay bề lõm lên trên; '\n",
      "                                             'nếu a < 0, parabol quay bề lõm '\n",
      "                                             'xuống dưới.',\n",
      "                          'question': 'Mô tả cách vẽ đồ thị của hàm số bậc hai '\n",
      "                                      'y = ax² + bx + c, bao gồm các bước xác '\n",
      "                                      'định đỉnh, trục đối xứng, giao điểm với '\n",
      "                                      'trục tung và trục hoành, cũng như cách '\n",
      "                                      'xác định bề lõm của parabol.'}],\n",
      "               'multiple_choice': [{'answer': 'C',\n",
      "                                    'options': ['A. 2 + 2 = 5',\n",
      "                                                'B. 3 > 5',\n",
      "                                                'C. 5 là số nguyên tố',\n",
      "                                                'D. 7 là số chẵn'],\n",
      "                                    'question': 'Mệnh đề nào sau đây là mệnh '\n",
      "                                                'đề đúng?'},\n",
      "                                   {'answer': 'B',\n",
      "                                    'options': ['A. Đồng biến trên ℝ',\n",
      "                                                'B. Nghịch biến trên ℝ',\n",
      "                                                'C. Không xác định',\n",
      "                                                'D. Không có chiều biến thiên'],\n",
      "                                    'question': 'Hàm số bậc nhất có dạng y = '\n",
      "                                                'ax + b, với a ≠ 0. Nếu a = '\n",
      "                                                '-2, hàm số này có chiều biến '\n",
      "                                                'thiên như thế nào?'},\n",
      "                                   {'answer': 'A',\n",
      "                                    'options': ['A. Xác định tọa độ của đỉnh',\n",
      "                                                'B. Vẽ trục đối xứng',\n",
      "                                                'C. Xác định giao điểm với '\n",
      "                                                'trục hoành',\n",
      "                                                'D. Xác định giao điểm với '\n",
      "                                                'trục tung'],\n",
      "                                    'question': 'Để vẽ đồ thị của hàm số bậc '\n",
      "                                                'hai y = ax² + bx + c, bước '\n",
      "                                                'đầu tiên cần thực hiện là '\n",
      "                                                'gì?'}]},\n",
      " 'subject': 'Toán'}\n"
     ]
    }
   ],
   "source": [
    "import pprint\n",
    "\n",
    "pprint.pprint(response.questions)"
   ]
  },
  {
   "cell_type": "code",
   "execution_count": null,
   "metadata": {},
   "outputs": [],
   "source": []
  }
 ],
 "metadata": {
  "kernelspec": {
   "display_name": "self-study",
   "language": "python",
   "name": "python3"
  },
  "language_info": {
   "codemirror_mode": {
    "name": "ipython",
    "version": 3
   },
   "file_extension": ".py",
   "mimetype": "text/x-python",
   "name": "python",
   "nbconvert_exporter": "python",
   "pygments_lexer": "ipython3",
   "version": "3.10.16"
  }
 },
 "nbformat": 4,
 "nbformat_minor": 2
}
