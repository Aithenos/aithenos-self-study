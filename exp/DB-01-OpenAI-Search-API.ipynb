{
 "cells": [
  {
   "cell_type": "code",
   "execution_count": null,
   "metadata": {},
   "outputs": [],
   "source": []
  },
  {
   "cell_type": "code",
   "execution_count": 15,
   "metadata": {},
   "outputs": [],
   "source": [
    "from openai import OpenAI\n",
    "from dotenv import load_dotenv\n",
    "import os\n",
    "\n",
    "load_dotenv()\n",
    "\n",
    "client = OpenAI(api_key=os.getenv(\"OPENAI__OPENAI_API_KEY\"))\n",
    "\n",
    "response = client.chat.completions.create(\n",
    "    model=\"gpt-4o-mini-search-preview\",\n",
    "    messages=[\n",
    "        {\"role\": \"user\", \"content\": \"\"\"\n",
    "         Dựa vào nội dung ở dưới: \n",
    "         Chương 1 và Chương 2 của Đại số lớp 10 thường bao gồm các nội dung cơ bản sau:\n",
    "\n",
    "**Chương 1: Mệnh đề, tập hợp và ánh xạ**\n",
    "\n",
    "- **Mệnh đề và tập hợp**: Giới thiệu về mệnh đề, tập hợp, các phép toán trên tập hợp như hợp, giao, hiệu, bổ sung và các tính chất liên quan.\n",
    "\n",
    "- **Ánh xạ**: Khái niệm về ánh xạ, các loại ánh xạ như đơn ánh, toàn ánh, song ánh và các tính chất của chúng.\n",
    "\n",
    "**Chương 2: Quan hệ và hàm số**\n",
    "\n",
    "- **Quan hệ**: Khái niệm về quan hệ, các loại quan hệ như phản xạ, đối xứng, bắc cầu và các tính chất của chúng.\n",
    "\n",
    "- **Hàm số**: Giới thiệu về hàm số, các loại hàm số cơ bản như hàm số bậc nhất, bậc hai, bậc ba và các tính chất của chúng.\n",
    "\n",
    "Để ôn tập hiệu quả, bạn có thể tham khảo các tài liệu sau:\n",
    "\n",
    "- **Chuyên đề về Đại số lớp 10**: Tài liệu này cung cấp các bài tập và lý thuyết chi tiết về các chủ đề trong chương 1 và chương 2. ([tailieu.vn](https://tailieu.vn/doc/chuyen-de-ve-dai-so-lop-10-172587.html?utm_source=openai))\n",
    "\n",
    "- **Đề cương ôn tập chương 1 - 2 Đại số 10**: Đề cương này bao gồm các bài tập và lý thuyết giúp củng cố kiến thức về mệnh đề, tập hợp, ánh xạ, quan hệ và hàm số. ([tailieu.vn](https://tailieu.vn/doc/de-cuong-on-tap-chuong-1-2-dai-so-10-truong-thpt-cat-tien-2012-1674862.html?utm_source=openai))\n",
    "\n",
    "- **10 Đề Kiểm Tra 1 Tiết Chương 1 Và 2 Đại Số 10 Có Đáp Án**: Tài liệu này cung cấp các đề kiểm tra với đáp án chi tiết, giúp bạn luyện tập và đánh giá mức độ hiểu biết của mình về các chủ đề đã học. ([thuvienhoclieu.com](https://thuvienhoclieu.com/10-de-kiem-tra-1-tiet-chuong-1-va-2-dai-so-10-co-dap-an/?utm_source=openai))\n",
    "\n",
    "Việc tham khảo và luyện tập với các tài liệu trên sẽ giúp bạn nắm vững kiến thức và chuẩn bị tốt cho các bài kiểm tra sắp tới. \n",
    "\n",
    "Tìm một số dạng bài tập và câu hỏi trắc nghiệm có đáp án về chương 1 và chương 2 Đại số lớp 10.\n",
    "         \"\"\"},\n",
    "    ]\n",
    ")"
   ]
  },
  {
   "cell_type": "code",
   "execution_count": 16,
   "metadata": {},
   "outputs": [
    {
     "name": "stdout",
     "output_type": "stream",
     "text": [
      "Để giúp bạn ôn tập hiệu quả các nội dung trong Chương 1 và Chương 2 của Đại số lớp 10, dưới đây là một số dạng bài tập và câu hỏi trắc nghiệm kèm đáp án:\n",
      "\n",
      "**Chương 1: Mệnh đề, tập hợp và ánh xạ**\n",
      "\n",
      "1. **Bài tập về mệnh đề và tập hợp:**\n",
      "\n",
      "   - **Bài 1:** Cho hai tập hợp A = {1, 2, 3} và B = {2, 3, 4}. Hãy xác định A ∪ B, A ∩ B, A - B và B - A.\n",
      "\n",
      "   - **Bài 2:** Chứng minh rằng nếu A ⊆ B và B ⊆ C thì A ⊆ C.\n",
      "\n",
      "2. **Câu hỏi trắc nghiệm về ánh xạ:**\n",
      "\n",
      "   - **Câu 1:** Ánh xạ f: A → B được gọi là đơn ánh nếu:\n",
      "     - A. Mỗi phần tử của A có một ảnh duy nhất trong B.\n",
      "     - B. Mỗi phần tử của B có một phần tử tương ứng trong A.\n",
      "     - C. Mỗi phần tử của A có một ảnh trong B, nhưng không nhất thiết là duy nhất.\n",
      "     - D. Mỗi phần tử của B có một ảnh duy nhất trong A.\n",
      "\n",
      "     **Đáp án:** A\n",
      "\n",
      "   - **Câu 2:** Ánh xạ f: A → B được gọi là song ánh nếu:\n",
      "     - A. Mỗi phần tử của A có một ảnh duy nhất trong B và ngược lại.\n",
      "     - B. Mỗi phần tử của A có một ảnh trong B, nhưng không nhất thiết là duy nhất.\n",
      "     - C. Mỗi phần tử của B có một ảnh duy nhất trong A.\n",
      "     - D. Mỗi phần tử của A có một ảnh trong B.\n",
      "\n",
      "     **Đáp án:** A\n",
      "\n",
      "**Chương 2: Quan hệ và hàm số**\n",
      "\n",
      "1. **Bài tập về quan hệ:**\n",
      "\n",
      "   - **Bài 1:** Cho tập hợp A = {1, 2, 3} và quan hệ R trên A được định nghĩa bởi R = {(1, 1), (2, 2), (3, 3), (1, 2), (2, 3)}. Hãy xác định xem R có phải là quan hệ phản xạ, đối xứng và bắc cầu hay không.\n",
      "\n",
      "   - **Bài 2:** Cho quan hệ R trên tập hợp A = {1, 2, 3, 4} được định nghĩa bởi R = {(1, 2), (2, 3), (3, 4), (1, 3), (2, 4)}. Hãy xác định xem R có phải là quan hệ phản xạ, đối xứng và bắc cầu hay không.\n",
      "\n",
      "2. **Câu hỏi trắc nghiệm về hàm số:**\n",
      "\n",
      "   - **Câu 1:** Hàm số bậc nhất có dạng:\n",
      "     - A. y = ax + b\n",
      "     - B. y = ax² + bx + c\n",
      "     - C. y = a/x\n",
      "     - D. y = a^x\n",
      "\n",
      "     **Đáp án:** A\n",
      "\n",
      "   - **Câu 2:** Đồ thị của hàm số bậc hai y = ax² + bx + c có dạng:\n",
      "     - A. Đường thẳng\n",
      "     - B. Parabol\n",
      "     - C. Hình tròn\n",
      "     - D. Hình elip\n",
      "\n",
      "     **Đáp án:** B\n",
      "\n",
      "Việc luyện tập với các bài tập và câu hỏi trắc nghiệm trên sẽ giúp bạn củng cố kiến thức và chuẩn bị tốt cho các bài kiểm tra sắp tới. \n"
     ]
    }
   ],
   "source": [
    "print(response.choices[0].message.content)"
   ]
  },
  {
   "cell_type": "markdown",
   "metadata": {},
   "source": [
    "-> Nên sinh dựa trên hai step -> sinh lần lượt."
   ]
  }
 ],
 "metadata": {
  "kernelspec": {
   "display_name": "self-study",
   "language": "python",
   "name": "python3"
  },
  "language_info": {
   "codemirror_mode": {
    "name": "ipython",
    "version": 3
   },
   "file_extension": ".py",
   "mimetype": "text/x-python",
   "name": "python",
   "nbconvert_exporter": "python",
   "pygments_lexer": "ipython3",
   "version": "3.10.16"
  }
 },
 "nbformat": 4,
 "nbformat_minor": 2
}
