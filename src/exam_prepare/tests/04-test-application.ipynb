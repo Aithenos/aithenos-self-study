{
 "cells": [
  {
   "cell_type": "code",
   "execution_count": 2,
   "metadata": {},
   "outputs": [
    {
     "name": "stderr",
     "output_type": "stream",
     "text": [
      "c:\\Users\\Admin\\anaconda3\\envs\\self-study\\lib\\site-packages\\pydantic\\_internal\\_fields.py:128: UserWarning: Field \"model_id\" has conflict with protected namespace \"model_\".\n",
      "\n",
      "You may be able to resolve this warning by setting `model_config['protected_namespaces'] = ()`.\n",
      "  warnings.warn(\n"
     ]
    }
   ],
   "source": [
    "from application import ExamGeneratorInput\n",
    "from application import ExamGeneratorService"
   ]
  },
  {
   "cell_type": "code",
   "execution_count": 3,
   "metadata": {},
   "outputs": [],
   "source": [
    "exam_gen_service = ExamGeneratorService()\n"
   ]
  },
  {
   "cell_type": "code",
   "execution_count": 6,
   "metadata": {},
   "outputs": [],
   "source": [
    "import pprint\n",
    "\n",
    "response = exam_gen_service.process(\n",
    "    ExamGeneratorInput(\n",
    "        exam_type=\"test_15m\",\n",
    "        number_multiplechoice=3,\n",
    "        number_essay=2,\n",
    "        subject=\"Toán\",\n",
    "        level_class=\"Grade 10\",\n",
    "        chapters=[\"Chương 1\", \"Chương 2\"],\n",
    "        lang=\"vi\",\n",
    "    )\n",
    ")"
   ]
  },
  {
   "cell_type": "code",
   "execution_count": 7,
   "metadata": {},
   "outputs": [
    {
     "name": "stdout",
     "output_type": "stream",
     "text": [
      "{'exam_type': 'test_15m',\n",
      " 'level_class': 10,\n",
      " 'questions': {'essay': [{'expected_answer': 'Vectơ là đoạn thẳng có hướng, '\n",
      "                                             'được xác định bởi điểm đầu và '\n",
      "                                             'điểm cuối. Ký hiệu vectơ từ điểm '\n",
      "                                             'A đến điểm B là . Các phép toán '\n",
      "                                             'cơ bản với vectơ bao gồm: cộng '\n",
      "                                             'và hiệu vectơ, tích của một '\n",
      "                                             'vectơ với một số, và vectơ đối. '\n",
      "                                             'Cộng và hiệu vectơ được thực '\n",
      "                                             'hiện theo quy tắc ba điểm, trong '\n",
      "                                             'khi tích của một vectơ với một '\n",
      "                                             'số thay đổi độ dài của vectơ mà '\n",
      "                                             'không thay đổi hướng. Vectơ đối '\n",
      "                                             'có cùng độ dài và ngược hướng '\n",
      "                                             'với vectơ cho trước.',\n",
      "                          'question': 'Hãy giải thích khái niệm vectơ, bao gồm '\n",
      "                                      'định nghĩa, ký hiệu và các phép toán cơ '\n",
      "                                      'bản với vectơ.'},\n",
      "                         {'expected_answer': 'Hàm số bậc hai y = ax² + bx + c '\n",
      "                                             'có tập xác định D = ℝ. Khi a > '\n",
      "                                             '0, hàm số đồng biến trên (-∞, '\n",
      "                                             '-b/2a) và nghịch biến trên '\n",
      "                                             '(-b/2a, +∞); khi a < 0, hàm số '\n",
      "                                             'nghịch biến trên (-∞, -b/2a) và '\n",
      "                                             'đồng biến trên (-b/2a, +∞). Đồ '\n",
      "                                             'thị của hàm số là một parabol có '\n",
      "                                             'đỉnh tại I(-b/2a, -Δ/4a), với Δ '\n",
      "                                             '= b² - 4ac.',\n",
      "                          'question': 'Hãy phân tích sự biến thiên và đồ thị '\n",
      "                                      'của hàm số bậc hai y = ax² + bx + c '\n",
      "                                      '(với a ≠ 0).'}],\n",
      "               'multiple_choice': [{'answer': 'A',\n",
      "                                    'options': ['A. Vectơ đối',\n",
      "                                                'B. Vectơ cùng phương',\n",
      "                                                'C. Vectơ đồng hướng',\n",
      "                                                'D. Vectơ vuông góc'],\n",
      "                                    'question': 'Vectơ nào sau đây có cùng độ '\n",
      "                                                'dài và ngược hướng với vectơ '\n",
      "                                                'cho trước?'},\n",
      "                                   {'answer': 'A',\n",
      "                                    'options': ['A. Đồng biến',\n",
      "                                                'B. Nghịch biến',\n",
      "                                                'C. Không xác định',\n",
      "                                                'D. Không đồng biến cũng không '\n",
      "                                                'nghịch biến'],\n",
      "                                    'question': 'Hàm số bậc nhất có dạng y = '\n",
      "                                                'ax + b, với a ≠ 0. Khi a > 0, '\n",
      "                                                'hàm số có tính chất gì?'},\n",
      "                                   {'answer': 'B',\n",
      "                                    'options': ['A. Đường thẳng',\n",
      "                                                'B. Parabol',\n",
      "                                                'C. Hình tròn',\n",
      "                                                'D. Hình elip'],\n",
      "                                    'question': 'Đồ thị của hàm số bậc hai y = '\n",
      "                                                'ax² + bx + c (với a ≠ 0) là '\n",
      "                                                'gì?'}]},\n",
      " 'subject': 'Toán'}\n"
     ]
    }
   ],
   "source": [
    "pprint.pprint(response.exam_question)"
   ]
  },
  {
   "cell_type": "code",
   "execution_count": null,
   "metadata": {},
   "outputs": [],
   "source": []
  }
 ],
 "metadata": {
  "kernelspec": {
   "display_name": "self-study",
   "language": "python",
   "name": "python3"
  },
  "language_info": {
   "codemirror_mode": {
    "name": "ipython",
    "version": 3
   },
   "file_extension": ".py",
   "mimetype": "text/x-python",
   "name": "python",
   "nbconvert_exporter": "python",
   "pygments_lexer": "ipython3",
   "version": "3.10.16"
  }
 },
 "nbformat": 4,
 "nbformat_minor": 2
}
