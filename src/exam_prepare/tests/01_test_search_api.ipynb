{
 "cells": [
  {
   "cell_type": "code",
   "execution_count": 2,
   "metadata": {},
   "outputs": [
    {
     "name": "stderr",
     "output_type": "stream",
     "text": [
      "c:\\Users\\Admin\\anaconda3\\envs\\self-study\\lib\\site-packages\\pydantic\\_internal\\_fields.py:128: UserWarning: Field \"model_id\" has conflict with protected namespace \"model_\".\n",
      "\n",
      "You may be able to resolve this warning by setting `model_config['protected_namespaces'] = ()`.\n",
      "  warnings.warn(\n"
     ]
    }
   ],
   "source": [
    "from infra.llm_service import OpenAISearchService\n",
    "from infra.llm_service import OpenAISearchInput\n"
   ]
  },
  {
   "cell_type": "code",
   "execution_count": 3,
   "metadata": {},
   "outputs": [],
   "source": [
    "from shared.settings import load_settings\n",
    "\n",
    "\n",
    "settings = load_settings()\n",
    "\n",
    "\n",
    "openai_service = OpenAISearchService(\n",
    "    settings=settings.openai\n",
    ")"
   ]
  },
  {
   "cell_type": "code",
   "execution_count": 4,
   "metadata": {},
   "outputs": [
    {
     "name": "stdout",
     "output_type": "stream",
     "text": [
      "Paris is the capital and largest city of France, located in the north-central part of the country along the Seine River. Known as the \"City of Light,\" Paris is renowned for its rich history, art, fashion, and culture. The city is home to iconic landmarks such as the Eiffel Tower, the Louvre Museum, Notre-Dame Cathedral, and the Arc de Triomphe. As the political and economic center of France, Paris houses important government institutions, including the Élysée Palace, the official residence of the President. ([mappr.co](https://www.mappr.co/capital-cities/france/?utm_source=openai)) \n"
     ]
    }
   ],
   "source": [
    "response = openai_service.process(\n",
    "    inputs=OpenAISearchInput(\n",
    "        user_prompt=\"What is the capital of France?\",\n",
    "    )\n",
    ")\n",
    "print(response.response)\n"
   ]
  },
  {
   "cell_type": "code",
   "execution_count": 7,
   "metadata": {},
   "outputs": [
    {
     "name": "stdout",
     "output_type": "stream",
     "text": [
      "Dưới đây là nội dung chi tiết về Chương 1 và Chương 2 môn Vật lý lớp 10 tại Việt Nam:\n",
      "\n",
      "**Chương 1: Động học chất điểm**\n",
      "\n",
      "1. **Khái niệm cơ bản**\n",
      "   - **Chuyển động**: Sự thay đổi vị trí của một vật trong không gian theo thời gian.\n",
      "   - **Chất điểm**: Mô hình lý tưởng hóa vật có kích thước rất nhỏ, giúp đơn giản hóa quá trình nghiên cứu và tính toán.\n",
      "\n",
      "2. **Đại lượng đặc trưng cho chuyển động**\n",
      "   - **Vị trí**: Xác định vị trí của chất điểm trong không gian.\n",
      "   - **Độ dịch chuyển**: Khoảng cách và hướng từ vị trí ban đầu đến vị trí cuối cùng của chất điểm.\n",
      "   - **Quãng đường**: Tổng chiều dài quỹ đạo mà chất điểm đã đi qua.\n",
      "   - **Vận tốc**: Tốc độ thay đổi vị trí của chất điểm theo thời gian. Công thức: \\( v = \\frac{\\Delta s}{\\Delta t} \\)\n",
      "   - **Gia tốc**: Tốc độ thay đổi vận tốc của chất điểm theo thời gian. Công thức: \\( a = \\frac{\\Delta v}{\\Delta t} \\)\n",
      "\n",
      "3. **Các dạng chuyển động cơ bản**\n",
      "   - **Chuyển động thẳng đều**: Vận tốc không đổi theo thời gian. Công thức: \\( s = v \\times t \\)\n",
      "   - **Chuyển động thẳng biến đổi đều**: Vận tốc thay đổi đều theo thời gian. Công thức vận tốc: \\( v = v_0 + a \\times t \\)\n",
      "   - **Chuyển động rơi tự do**: Chuyển động của vật dưới tác dụng của trọng lực, không có vận tốc ban đầu. Công thức vận tốc: \\( v = g \\times t \\)\n",
      "\n",
      "**Chương 2: Động lực học chất điểm**\n",
      "\n",
      "1. **Định luật Newton**\n",
      "   - **Định luật I (Định luật quán tính)**: Nếu một vật không chịu tác dụng của lực nào hoặc chịu tác dụng của các lực có hợp lực bằng không, thì vật đang đứng yên sẽ tiếp tục đứng yên, đang chuyển động sẽ tiếp tục chuyển động thẳng đều.\n",
      "   - **Định luật II**: Gia tốc của một vật cùng hướng với lực tác dụng lên vật và tỷ lệ thuận với lực đó, tỷ lệ nghịch với khối lượng của vật: \\( \\vec{a} = \\frac{\\vec{F}}{m} \\)\n",
      "   - **Định luật III**: Khi vật A tác dụng lên vật B một lực, thì vật B cũng tác dụng lại vật A một lực. Hai lực này có cùng độ lớn, nhưng ngược chiều: \\( \\vec{F}_{AB} = -\\vec{F}_{BA} \\)\n",
      "\n",
      "2. **Lực hấp dẫn và định luật vạn vật hấp dẫn**\n",
      "   - Lực hấp dẫn giữa hai chất điểm bất kỳ tỉ lệ thuận với tích hai khối lượng của chúng và tỉ lệ nghịch với bình phương khoảng cách giữa chúng: \\( F = G \\frac{m_1 m_2}{r^2} \\)\n",
      "   - Trọng lực của một vật là lực hấp dẫn giữa Trái Đất và vật đó, với độ lớn: \\( P = mg \\)\n",
      "\n",
      "3. **Lực đàn hồi của lò xo và định luật Húc**\n",
      "   - Định luật Húc cho biết trong giới hạn đàn hồi, độ lớn của lực đàn hồi của lò xo tỉ lệ thuận với độ biến dạng của lò xo: \\( F_{đh} = k|\\Delta l| \\)\n",
      "   - Trong đó:\n",
      "     - \\( F_{đh} \\) là lực đàn hồi (N)\n",
      "     - \\( k \\) là hệ số đàn hồi của lò xo (N/m)\n",
      "     - \\( \\Delta l \\) là độ biến dạng của lò xo (m)\n",
      "\n",
      "4. **Lực ma sát**\n",
      "   - Lực ma sát xuất hiện khi hai bề mặt tiếp xúc và trượt qua nhau. Lực này có thể là ma sát trượt, ma sát nghỉ hoặc ma sát lăn, và được tính theo công thức: \\( F_{ms} = \\mu \\times N \\)\n",
      "   - Trong đó:\n",
      "     - \\( F_{ms} \\) là lực ma sát (N)\n",
      "     - \\( \\mu \\) là hệ số ma sát\n",
      "     - \\( N \\) là phản lực pháp tuyến (N)\n",
      "\n",
      "Việc nắm vững các khái niệm và công thức trên sẽ giúp học sinh hiểu rõ hơn về chuyển động và lực tác dụng trong tự nhiên, tạo nền tảng vững chắc cho việc học các chương tiếp theo trong môn Vật lý. \n"
     ]
    }
   ],
   "source": [
    "response = openai_service.process(\n",
    "    inputs=OpenAISearchInput(\n",
    "        system_prompt=\"\"\"\n",
    "        You are an AI assistant specialized in educational content organization in Viet Nam. Your task is to generate a structured list of chapters for a given subject and class level. Each chapter should be clear, well-organized, and relevant to the academic curriculum. Your output should be concise, properly formatted, and include key topics typically covered in that chapter.\n",
    "aad     \n",
    "        Generate in Vietnamese\n",
    "        \"\"\",\n",
    "        user_prompt=\"\"\"\n",
    "        Lấy cho tôi kiến thức nội dung chi tiết về [\"chương 1\", \"chương 2\"] môn lý lớp 10 tại việt nam. \n",
    "        \"\"\",\n",
    "    )\n",
    ")\n",
    "print(response.response)"
   ]
  },
  {
   "cell_type": "code",
   "execution_count": null,
   "metadata": {},
   "outputs": [],
   "source": []
  }
 ],
 "metadata": {
  "kernelspec": {
   "display_name": "self-study",
   "language": "python",
   "name": "python3"
  },
  "language_info": {
   "codemirror_mode": {
    "name": "ipython",
    "version": 3
   },
   "file_extension": ".py",
   "mimetype": "text/x-python",
   "name": "python",
   "nbconvert_exporter": "python",
   "pygments_lexer": "ipython3",
   "version": "3.10.16"
  }
 },
 "nbformat": 4,
 "nbformat_minor": 2
}
