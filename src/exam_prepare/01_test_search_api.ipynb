{
 "cells": [
  {
   "cell_type": "code",
   "execution_count": 1,
   "metadata": {},
   "outputs": [
    {
     "name": "stderr",
     "output_type": "stream",
     "text": [
      "c:\\Users\\Admin\\anaconda3\\envs\\self-study\\lib\\site-packages\\pydantic\\_internal\\_fields.py:128: UserWarning: Field \"model_id\" has conflict with protected namespace \"model_\".\n",
      "\n",
      "You may be able to resolve this warning by setting `model_config['protected_namespaces'] = ()`.\n",
      "  warnings.warn(\n"
     ]
    }
   ],
   "source": [
    "from infra.llm_service import OpenAISearchService\n",
    "from infra.llm_service import OpenAISearchInput\n"
   ]
  },
  {
   "cell_type": "code",
   "execution_count": 2,
   "metadata": {},
   "outputs": [],
   "source": [
    "from shared.settings import load_settings\n",
    "\n",
    "\n",
    "settings = load_settings()\n",
    "\n",
    "\n",
    "openai_service = OpenAISearchService(\n",
    "    settings=settings.openai\n",
    ")"
   ]
  },
  {
   "cell_type": "code",
   "execution_count": 4,
   "metadata": {},
   "outputs": [
    {
     "name": "stdout",
     "output_type": "stream",
     "text": [
      "The capital of France is Paris. Located in the north-central part of the country along the Seine River, Paris is the largest city in France and serves as its political, economic, and cultural center. Known as the \"City of Light,\" Paris is renowned for its rich history, iconic landmarks such as the Eiffel Tower and the Louvre Museum, and its significant influence in art, fashion, and cuisine. ([mappr.co](https://www.mappr.co/capital-cities/france/?utm_source=openai)) \n"
     ]
    }
   ],
   "source": [
    "response = openai_service.process(\n",
    "    inputs=OpenAISearchInput(\n",
    "        user_prompt=\"What is the capital of France?\",\n",
    "    )\n",
    ")\n",
    "print(response.response)\n"
   ]
  },
  {
   "cell_type": "code",
   "execution_count": null,
   "metadata": {},
   "outputs": [],
   "source": []
  }
 ],
 "metadata": {
  "kernelspec": {
   "display_name": "self-study",
   "language": "python",
   "name": "python3"
  },
  "language_info": {
   "codemirror_mode": {
    "name": "ipython",
    "version": 3
   },
   "file_extension": ".py",
   "mimetype": "text/x-python",
   "name": "python",
   "nbconvert_exporter": "python",
   "pygments_lexer": "ipython3",
   "version": "3.10.16"
  }
 },
 "nbformat": 4,
 "nbformat_minor": 2
}
